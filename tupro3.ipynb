{
  "nbformat": 4,
  "nbformat_minor": 0,
  "metadata": {
    "interpreter": {
      "hash": "aecbf246bc7e0649acab9decb8ec173db8cfe19a57da44fe961ee5baa2e6f71a"
    },
    "kernelspec": {
      "display_name": "Python 3.9.4 64-bit",
      "name": "python3"
    },
    "language_info": {
      "codemirror_mode": {
        "name": "ipython",
        "version": 3
      },
      "file_extension": ".py",
      "mimetype": "text/x-python",
      "name": "python",
      "nbconvert_exporter": "python",
      "pygments_lexer": "ipython3",
      "version": "3.9.4"
    },
    "orig_nbformat": 4,
    "colab": {
      "name": "tupro3.ipynb",
      "provenance": [],
      "collapsed_sections": []
    }
  },
  "cells": [
    {
      "cell_type": "code",
      "metadata": {
        "colab": {
          "base_uri": "https://localhost:8080/"
        },
        "id": "1tWd9ApVymL1",
        "outputId": "cf02ccb7-4ba1-44f0-a3d7-555536fa6ff8"
      },
      "source": [
        "!pip install XlsxWriter"
      ],
      "execution_count": null,
      "outputs": [
        {
          "output_type": "stream",
          "text": [
            "Collecting XlsxWriter\n",
            "\u001b[?25l  Downloading https://files.pythonhosted.org/packages/2c/ce/74fd8d638a5b82ea0c6f08a5978f741c2655a38c3d6e82f73a0f084377e6/XlsxWriter-1.4.3-py2.py3-none-any.whl (149kB)\n",
            "\r\u001b[K     |██▏                             | 10kB 17.7MB/s eta 0:00:01\r\u001b[K     |████▍                           | 20kB 18.2MB/s eta 0:00:01\r\u001b[K     |██████▋                         | 30kB 15.7MB/s eta 0:00:01\r\u001b[K     |████████▊                       | 40kB 13.4MB/s eta 0:00:01\r\u001b[K     |███████████                     | 51kB 6.4MB/s eta 0:00:01\r\u001b[K     |█████████████▏                  | 61kB 6.8MB/s eta 0:00:01\r\u001b[K     |███████████████▍                | 71kB 7.7MB/s eta 0:00:01\r\u001b[K     |█████████████████▌              | 81kB 8.3MB/s eta 0:00:01\r\u001b[K     |███████████████████▊            | 92kB 8.2MB/s eta 0:00:01\r\u001b[K     |██████████████████████          | 102kB 6.9MB/s eta 0:00:01\r\u001b[K     |████████████████████████▏       | 112kB 6.9MB/s eta 0:00:01\r\u001b[K     |██████████████████████████▎     | 122kB 6.9MB/s eta 0:00:01\r\u001b[K     |████████████████████████████▌   | 133kB 6.9MB/s eta 0:00:01\r\u001b[K     |██████████████████████████████▊ | 143kB 6.9MB/s eta 0:00:01\r\u001b[K     |████████████████████████████████| 153kB 6.9MB/s \n",
            "\u001b[?25hInstalling collected packages: XlsxWriter\n",
            "Successfully installed XlsxWriter-1.4.3\n"
          ],
          "name": "stdout"
        }
      ]
    },
    {
      "cell_type": "code",
      "metadata": {
        "id": "h0ouhXybyc1R"
      },
      "source": [
        "import pandas as pd\n",
        "import math\n",
        "import copy\n",
        "import xlsxwriter"
      ],
      "execution_count": null,
      "outputs": []
    },
    {
      "cell_type": "code",
      "metadata": {
        "id": "e1XqaD7Zyc1T"
      },
      "source": [
        "def importData(excel):\n",
        "    arrData = []\n",
        "    data = pd.read_excel (excel)\n",
        "    for i in range(len(data['Nama Mobil'])):    \n",
        "        arrData.append([])   \n",
        "        arrData[i].append(data['Nama Mobil'][i])\n",
        "        arrData[i].append(data['Ukuran'][i])\n",
        "        arrData[i].append(data['Kenyamanan'][i])\n",
        "        arrData[i].append(data['Irit'][i])\n",
        "        arrData[i].append(data['Kecepatan'][i])\n",
        "        arrData[i].append(data['Harga (Ratus Juta)'][i])\n",
        "    return arrData"
      ],
      "execution_count": null,
      "outputs": []
    },
    {
      "cell_type": "code",
      "metadata": {
        "id": "FnHtz5ijyc1U"
      },
      "source": [
        "def euclidean(arrMobil, testing):\n",
        "    i = 1\n",
        "    x = 0\n",
        "    while (i < len(arrMobil)):\n",
        "        x = x + ((arrMobil[i] - testing[0][i]) * (arrMobil[i] - testing[0][i]))\n",
        "        i = i + 1\n",
        "    return math.sqrt(x)"
      ],
      "execution_count": null,
      "outputs": []
    },
    {
      "cell_type": "code",
      "metadata": {
        "id": "yopHInbhyc1V"
      },
      "source": [
        "def manhattan(arrMobil, testing):\n",
        "    i = 1\n",
        "    x = 0\n",
        "    while (i < len(arrMobil)):\n",
        "        x = x + abs(arrMobil[i] - testing[0][i])\n",
        "        i = i + 1\n",
        "    return x"
      ],
      "execution_count": null,
      "outputs": []
    },
    {
      "cell_type": "code",
      "metadata": {
        "id": "ONpaTtltyc1V"
      },
      "source": [
        "def minkowski(arrMobil, testing):\n",
        "    i = 1\n",
        "    x = 0\n",
        "    while (i < len(arrMobil)):\n",
        "        x = x + math.pow((abs(arrMobil[i] - testing[0][i])), 1.7)\n",
        "        i = i + 1\n",
        "    return math.pow(x, 1/1.7)"
      ],
      "execution_count": null,
      "outputs": []
    },
    {
      "cell_type": "code",
      "metadata": {
        "id": "WJM5USdnyc1V"
      },
      "source": [
        "def supremum(arrMobil, testing):\n",
        "    i = 1\n",
        "    maxx = 0\n",
        "    while (i < len(arrMobil)):\n",
        "        x = abs(arrMobil[i] - testing[0][i])\n",
        "        if (x > maxx) :\n",
        "            maxx = x\n",
        "        i = i + 1\n",
        "    return maxx"
      ],
      "execution_count": null,
      "outputs": []
    },
    {
      "cell_type": "code",
      "metadata": {
        "id": "UVTIgrQ4yc1W"
      },
      "source": [
        "def urutkanBesar(Data,by,mobil):\n",
        "    data = Data[:]\n",
        "    Mobil = copy.deepcopy(mobil)\n",
        "    for i in range(len(data)):\n",
        "        min_idx = i\n",
        "        for j in range(i+1, len(data)):\n",
        "            if data[min_idx][by] > data[j][by]:\n",
        "                min_idx = j \n",
        "        data[i], data[min_idx] = data[min_idx], data[i]\n",
        "        Mobil[i], Mobil[min_idx] = Mobil[min_idx], Mobil[i]\n",
        "        Mobil[i].append(data[i][by]) # Tambah Hasil Perhitungan\n",
        "    return Mobil"
      ],
      "execution_count": null,
      "outputs": []
    },
    {
      "cell_type": "code",
      "metadata": {
        "id": "h6iscognyc1W"
      },
      "source": [
        "def ngitung(dataMobil, dataTesting):\n",
        "    perhitungan = []\n",
        "    for i in range(len(dataMobil)):\n",
        "        perhitungan.append([])\n",
        "        perhitungan[i].append(dataMobil[i][0])\n",
        "        perhitungan[i].append(euclidean(dataMobil[i], dataTesting))\n",
        "        perhitungan[i].append(manhattan(dataMobil[i], dataTesting))\n",
        "        perhitungan[i].append(minkowski(dataMobil[i], dataTesting))\n",
        "        perhitungan[i].append(supremum(dataMobil[i], dataTesting))\n",
        "    return perhitungan"
      ],
      "execution_count": null,
      "outputs": []
    },
    {
      "cell_type": "code",
      "metadata": {
        "id": "bYOO3Ci2yc1X"
      },
      "source": [
        "def min(data, idx):\n",
        "    x = data[0][idx]\n",
        "    for i in range(len(data)): #counter mobil\n",
        "        if (data[i][idx] < x):\n",
        "            x = data[i][idx]\n",
        "    return x"
      ],
      "execution_count": null,
      "outputs": []
    },
    {
      "cell_type": "code",
      "metadata": {
        "id": "BPcsHEyVyc1X"
      },
      "source": [
        "def max(data, idx):\n",
        "    x = data[0][idx]\n",
        "    for i in range(len(data)): #counter mobil\n",
        "        if (data[i][idx] > x):\n",
        "            x = data[i][idx]\n",
        "    return x"
      ],
      "execution_count": null,
      "outputs": []
    },
    {
      "cell_type": "code",
      "metadata": {
        "id": "CtyzCBjgyc1X"
      },
      "source": [
        "def normalisasi(data, datam):\n",
        "    Data = copy.deepcopy(data)\n",
        "    j = 1\n",
        "    while (j < len(Data[0])): #counter kategori\n",
        "        for i in range(len(Data)): #counter mobil\n",
        "            Data[i][j] = (Data[i][j] - min(datam,j))/(max(datam,j) - min(datam,j))\n",
        "        j += 1\n",
        "    return Data\n"
      ],
      "execution_count": null,
      "outputs": []
    },
    {
      "cell_type": "code",
      "metadata": {
        "id": "bCvhtN7z1CE8"
      },
      "source": [
        "def rekomendasi(eclu, manha, minko, supre):\n",
        "    rekeclu = []\n",
        "    rekmanha = []\n",
        "    rekminko = []\n",
        "    reksupre = []\n",
        "    for i in range(3):\n",
        "        rekeclu.append(eclu[i])\n",
        "        rekmanha.append(manha[i])\n",
        "        rekminko.append(minko[i])\n",
        "        reksupre.append(supre[i])\n",
        "    return rekeclu, rekmanha, rekminko, reksupre"
      ],
      "execution_count": null,
      "outputs": []
    },
    {
      "cell_type": "code",
      "metadata": {
        "id": "WBZLNBIQ0YLF"
      },
      "source": [
        "def MembuatExcel(ListMobilRekomendasi,NamaExcel):\n",
        "  workbook = xlsxwriter.Workbook(NamaExcel)\n",
        "  worksheet = workbook.add_worksheet(\"The Data\")\n",
        "  worksheet.write(0,0,'Rekomendasi Mobil')\n",
        "  start = 1 \n",
        "  for i in range(len(ListMobilRekomendasi)):\n",
        "      worksheet.write(start,0,ListMobilRekomendasi[i][0])\n",
        "      start += 1\n",
        "\n",
        "  workbook.close()"
      ],
      "execution_count": null,
      "outputs": []
    },
    {
      "cell_type": "code",
      "metadata": {
        "colab": {
          "base_uri": "https://localhost:8080/"
        },
        "id": "6cHnKJdKyc1Y",
        "outputId": "8f253930-6d5e-4b27-df4c-b36d16cd8b85"
      },
      "source": [
        "testing = 'test.xls'\n",
        "training = 'Dataset Tugas 3.xls'\n",
        "dataTesting = importData(testing)\n",
        "dataMobil = importData(training)\n",
        "\n",
        "dataTesting = normalisasi(dataTesting, dataMobil)\n",
        "dataMobil = normalisasi(dataMobil, dataMobil)\n",
        "perhitungan = ngitung(dataMobil, dataTesting)\n",
        "i = 0\n",
        "print(*dataMobil, sep=\"\\n\")\n",
        "print(\"\\n\")\n",
        "print(\"===========HASIL PERHITUNGAN=============\")\n",
        "for i in range(len(perhitungan)):\n",
        "    print(perhitungan[i])\n",
        "\n",
        "\n",
        "eclusort = urutkanBesar(perhitungan,1,dataMobil)\n",
        "manhasort = urutkanBesar(perhitungan,2,dataMobil)\n",
        "minkosort = urutkanBesar(perhitungan,3,dataMobil)\n",
        "supresort = urutkanBesar(perhitungan,4,dataMobil)\n",
        "\n",
        "rekEclu, rekManha, rekMinko, rekSupre = rekomendasi(eclusort, manhasort, minkosort, supresort)\n",
        "print(\"============ECLUDIAN=============\")\n",
        "print(*eclusort , sep=\"\\n\")\n",
        "MembuatExcel(rekEclu,'Hasil Rekomendasi_Euclidean.xlsx')\n",
        "print(\"============MANHATTAN=============\")\n",
        "print(*manhasort , sep=\"\\n\")\n",
        "MembuatExcel(rekManha,'Hasil Rekomendasi_Manhattan.xlsx')\n",
        "print(\"============MINKOWSKI=============\")\n",
        "print(*minkosort , sep=\"\\n\")\n",
        "MembuatExcel(rekMinko,'Hasil Rekomendasi_Minkowski.xlsx')\n",
        "print(\"============SUPREMUM=============\")\n",
        "print(*supresort , sep=\"\\n\")\n",
        "MembuatExcel(rekSupre,'Hasil Rekomendasi_Supremum.xlsx')"
      ],
      "execution_count": null,
      "outputs": [
        {
          "output_type": "stream",
          "text": [
            "['Toyota Agya', 0.14285714285714285, 0.14285714285714285, 0.8333333333333334, 0.25, 0.021739130434782605]\n",
            "['Daihatsu Alya', 0.14285714285714285, 0.0, 0.8333333333333334, 0.25, 0.03260869565217392]\n",
            "['Toyota Avanza', 0.42857142857142855, 0.2857142857142857, 0.3333333333333333, 0.25, 0.13043478260869565]\n",
            "['Daihatsu Xenia', 0.42857142857142855, 0.14285714285714285, 0.3333333333333333, 0.25, 0.10326086956521739]\n",
            "['Xpander', 0.5714285714285714, 0.5714285714285714, 0.3333333333333333, 0.5, 0.15760869565217392]\n",
            "['Livina', 0.5714285714285714, 0.5714285714285714, 0.3333333333333333, 0.5, 0.14130434782608697]\n",
            "['Karimun', 0.0, 0.14285714285714285, 1.0, 0.0, 0.04347826086956521]\n",
            "['Toyota Innova', 0.7142857142857143, 0.7142857142857143, 0.16666666666666666, 0.5, 0.3478260869565218]\n",
            "['Alphard', 0.8571428571428571, 1.0, 0.0, 0.75, 1.0]\n",
            "['Toyota Vios', 0.2857142857142857, 0.5714285714285714, 0.8333333333333334, 0.75, 0.1847826086956522]\n",
            "['Honda City', 0.2857142857142857, 0.7142857142857143, 0.5, 0.75, 0.2065217391304348]\n",
            "['Toyota Hiace', 1.0, 0.2857142857142857, 0.6666666666666666, 0.25, 0.4565217391304348]\n",
            "['Toyota Fortuner', 0.8571428571428571, 0.7142857142857143, 0.16666666666666666, 0.75, 0.4565217391304348]\n",
            "['Toyota Foxy', 0.8571428571428571, 0.8571428571428571, 0.16666666666666666, 0.5, 0.5108695652173914]\n",
            "['Toyota Corolla Altis', 0.2857142857142857, 0.8571428571428571, 0.5, 1.0, 0.5652173913043479]\n",
            "['Suzuki Ertiga', 0.5714285714285714, 0.5714285714285714, 0.5, 0.5, 0.16304347826086954]\n",
            "['Suzuki Carry', 0.5714285714285714, 0.0, 0.8333333333333334, 0.0, 0.0]\n",
            "\n",
            "\n",
            "===========HASIL PERHITUNGAN=============\n",
            "['Toyota Agya', 0.9519686129159008, 1.729296066252588, 1.033938045757427, 0.8333333333333334]\n",
            "['Daihatsu Alya', 1.001836965694002, 1.8612836438923395, 1.0968084087887047, 0.8333333333333334]\n",
            "['Toyota Avanza', 0.47564922205679644, 0.9777432712215322, 0.5350750622606704, 0.3333333333333333]\n",
            "['Daihatsu Xenia', 0.5423213680005654, 1.1477743271221532, 0.6155519827118682, 0.3333333333333333]\n",
            "['Xpander', 0.468825896670067, 0.8434265010351967, 0.5153736129065493, 0.3333333333333333]\n",
            "['Livina', 0.47193418050281827, 0.8597308488612836, 0.5201505889500451, 0.3333333333333333]\n",
            "['Karimun', 1.2048008463141735, 2.2670807453416146, 1.3223359054895525, 1.0]\n",
            "['Toyota Innova', 0.5521762807548598, 0.9896480331262941, 0.6055536081997662, 0.4285714285714286]\n",
            "['Alphard', 1.1377538045481974, 2.153726708074534, 1.2671437277063635, 0.7608695652173912]\n",
            "['Toyota Vios', 0.8833494743928525, 1.2805383022774328, 0.9225187608688473, 0.8333333333333334]\n",
            "['Honda City', 0.6286461485552589, 1.0683229813664596, 0.6840324953335708, 0.5]\n",
            "['Toyota Hiace', 1.041544847113389, 1.99120082815735, 1.1522112946834926, 0.7142857142857143]\n",
            "['Toyota Fortuner', 0.7387151157854761, 1.4912008281573501, 0.8256817152772342, 0.5714285714285714]\n",
            "['Toyota Foxy', 0.7821918015550167, 1.4384057971014492, 0.8638684282297986, 0.5714285714285714]\n",
            "['Toyota Corolla Altis', 0.888822914084333, 1.7546583850931676, 1.0007207593931835, 0.5]\n",
            "['Suzuki Ertiga', 0.5981889678682412, 1.0046583850931678, 0.6460134753633473, 0.5]\n",
            "['Suzuki Carry', 1.1255815971011358, 2.2867494824016563, 1.2617799470831361, 0.8333333333333334]\n",
            "============ECLUDIAN=============\n",
            "['Xpander', 0.5714285714285714, 0.5714285714285714, 0.3333333333333333, 0.5, 0.15760869565217392, 0.468825896670067]\n",
            "['Livina', 0.5714285714285714, 0.5714285714285714, 0.3333333333333333, 0.5, 0.14130434782608697, 0.47193418050281827]\n",
            "['Toyota Avanza', 0.42857142857142855, 0.2857142857142857, 0.3333333333333333, 0.25, 0.13043478260869565, 0.47564922205679644]\n",
            "['Daihatsu Xenia', 0.42857142857142855, 0.14285714285714285, 0.3333333333333333, 0.25, 0.10326086956521739, 0.5423213680005654]\n",
            "['Toyota Innova', 0.7142857142857143, 0.7142857142857143, 0.16666666666666666, 0.5, 0.3478260869565218, 0.5521762807548598]\n",
            "['Suzuki Ertiga', 0.5714285714285714, 0.5714285714285714, 0.5, 0.5, 0.16304347826086954, 0.5981889678682412]\n",
            "['Honda City', 0.2857142857142857, 0.7142857142857143, 0.5, 0.75, 0.2065217391304348, 0.6286461485552589]\n",
            "['Toyota Fortuner', 0.8571428571428571, 0.7142857142857143, 0.16666666666666666, 0.75, 0.4565217391304348, 0.7387151157854761]\n",
            "['Toyota Foxy', 0.8571428571428571, 0.8571428571428571, 0.16666666666666666, 0.5, 0.5108695652173914, 0.7821918015550167]\n",
            "['Toyota Vios', 0.2857142857142857, 0.5714285714285714, 0.8333333333333334, 0.75, 0.1847826086956522, 0.8833494743928525]\n",
            "['Toyota Corolla Altis', 0.2857142857142857, 0.8571428571428571, 0.5, 1.0, 0.5652173913043479, 0.888822914084333]\n",
            "['Toyota Agya', 0.14285714285714285, 0.14285714285714285, 0.8333333333333334, 0.25, 0.021739130434782605, 0.9519686129159008]\n",
            "['Daihatsu Alya', 0.14285714285714285, 0.0, 0.8333333333333334, 0.25, 0.03260869565217392, 1.001836965694002]\n",
            "['Toyota Hiace', 1.0, 0.2857142857142857, 0.6666666666666666, 0.25, 0.4565217391304348, 1.041544847113389]\n",
            "['Suzuki Carry', 0.5714285714285714, 0.0, 0.8333333333333334, 0.0, 0.0, 1.1255815971011358]\n",
            "['Alphard', 0.8571428571428571, 1.0, 0.0, 0.75, 1.0, 1.1377538045481974]\n",
            "['Karimun', 0.0, 0.14285714285714285, 1.0, 0.0, 0.04347826086956521, 1.2048008463141735]\n",
            "============MANHATTAN=============\n",
            "['Xpander', 0.5714285714285714, 0.5714285714285714, 0.3333333333333333, 0.5, 0.15760869565217392, 0.8434265010351967]\n",
            "['Livina', 0.5714285714285714, 0.5714285714285714, 0.3333333333333333, 0.5, 0.14130434782608697, 0.8597308488612836]\n",
            "['Toyota Avanza', 0.42857142857142855, 0.2857142857142857, 0.3333333333333333, 0.25, 0.13043478260869565, 0.9777432712215322]\n",
            "['Toyota Innova', 0.7142857142857143, 0.7142857142857143, 0.16666666666666666, 0.5, 0.3478260869565218, 0.9896480331262941]\n",
            "['Suzuki Ertiga', 0.5714285714285714, 0.5714285714285714, 0.5, 0.5, 0.16304347826086954, 1.0046583850931678]\n",
            "['Honda City', 0.2857142857142857, 0.7142857142857143, 0.5, 0.75, 0.2065217391304348, 1.0683229813664596]\n",
            "['Daihatsu Xenia', 0.42857142857142855, 0.14285714285714285, 0.3333333333333333, 0.25, 0.10326086956521739, 1.1477743271221532]\n",
            "['Toyota Vios', 0.2857142857142857, 0.5714285714285714, 0.8333333333333334, 0.75, 0.1847826086956522, 1.2805383022774328]\n",
            "['Toyota Foxy', 0.8571428571428571, 0.8571428571428571, 0.16666666666666666, 0.5, 0.5108695652173914, 1.4384057971014492]\n",
            "['Toyota Fortuner', 0.8571428571428571, 0.7142857142857143, 0.16666666666666666, 0.75, 0.4565217391304348, 1.4912008281573501]\n",
            "['Toyota Agya', 0.14285714285714285, 0.14285714285714285, 0.8333333333333334, 0.25, 0.021739130434782605, 1.729296066252588]\n",
            "['Toyota Corolla Altis', 0.2857142857142857, 0.8571428571428571, 0.5, 1.0, 0.5652173913043479, 1.7546583850931676]\n",
            "['Daihatsu Alya', 0.14285714285714285, 0.0, 0.8333333333333334, 0.25, 0.03260869565217392, 1.8612836438923395]\n",
            "['Toyota Hiace', 1.0, 0.2857142857142857, 0.6666666666666666, 0.25, 0.4565217391304348, 1.99120082815735]\n",
            "['Alphard', 0.8571428571428571, 1.0, 0.0, 0.75, 1.0, 2.153726708074534]\n",
            "['Karimun', 0.0, 0.14285714285714285, 1.0, 0.0, 0.04347826086956521, 2.2670807453416146]\n",
            "['Suzuki Carry', 0.5714285714285714, 0.0, 0.8333333333333334, 0.0, 0.0, 2.2867494824016563]\n",
            "============MINKOWSKI=============\n",
            "['Xpander', 0.5714285714285714, 0.5714285714285714, 0.3333333333333333, 0.5, 0.15760869565217392, 0.5153736129065493]\n",
            "['Livina', 0.5714285714285714, 0.5714285714285714, 0.3333333333333333, 0.5, 0.14130434782608697, 0.5201505889500451]\n",
            "['Toyota Avanza', 0.42857142857142855, 0.2857142857142857, 0.3333333333333333, 0.25, 0.13043478260869565, 0.5350750622606704]\n",
            "['Toyota Innova', 0.7142857142857143, 0.7142857142857143, 0.16666666666666666, 0.5, 0.3478260869565218, 0.6055536081997662]\n",
            "['Daihatsu Xenia', 0.42857142857142855, 0.14285714285714285, 0.3333333333333333, 0.25, 0.10326086956521739, 0.6155519827118682]\n",
            "['Suzuki Ertiga', 0.5714285714285714, 0.5714285714285714, 0.5, 0.5, 0.16304347826086954, 0.6460134753633473]\n",
            "['Honda City', 0.2857142857142857, 0.7142857142857143, 0.5, 0.75, 0.2065217391304348, 0.6840324953335708]\n",
            "['Toyota Fortuner', 0.8571428571428571, 0.7142857142857143, 0.16666666666666666, 0.75, 0.4565217391304348, 0.8256817152772342]\n",
            "['Toyota Foxy', 0.8571428571428571, 0.8571428571428571, 0.16666666666666666, 0.5, 0.5108695652173914, 0.8638684282297986]\n",
            "['Toyota Vios', 0.2857142857142857, 0.5714285714285714, 0.8333333333333334, 0.75, 0.1847826086956522, 0.9225187608688473]\n",
            "['Toyota Corolla Altis', 0.2857142857142857, 0.8571428571428571, 0.5, 1.0, 0.5652173913043479, 1.0007207593931835]\n",
            "['Toyota Agya', 0.14285714285714285, 0.14285714285714285, 0.8333333333333334, 0.25, 0.021739130434782605, 1.033938045757427]\n",
            "['Daihatsu Alya', 0.14285714285714285, 0.0, 0.8333333333333334, 0.25, 0.03260869565217392, 1.0968084087887047]\n",
            "['Toyota Hiace', 1.0, 0.2857142857142857, 0.6666666666666666, 0.25, 0.4565217391304348, 1.1522112946834926]\n",
            "['Suzuki Carry', 0.5714285714285714, 0.0, 0.8333333333333334, 0.0, 0.0, 1.2617799470831361]\n",
            "['Alphard', 0.8571428571428571, 1.0, 0.0, 0.75, 1.0, 1.2671437277063635]\n",
            "['Karimun', 0.0, 0.14285714285714285, 1.0, 0.0, 0.04347826086956521, 1.3223359054895525]\n",
            "============SUPREMUM=============\n",
            "['Toyota Avanza', 0.42857142857142855, 0.2857142857142857, 0.3333333333333333, 0.25, 0.13043478260869565, 0.3333333333333333]\n",
            "['Daihatsu Xenia', 0.42857142857142855, 0.14285714285714285, 0.3333333333333333, 0.25, 0.10326086956521739, 0.3333333333333333]\n",
            "['Xpander', 0.5714285714285714, 0.5714285714285714, 0.3333333333333333, 0.5, 0.15760869565217392, 0.3333333333333333]\n",
            "['Livina', 0.5714285714285714, 0.5714285714285714, 0.3333333333333333, 0.5, 0.14130434782608697, 0.3333333333333333]\n",
            "['Toyota Innova', 0.7142857142857143, 0.7142857142857143, 0.16666666666666666, 0.5, 0.3478260869565218, 0.4285714285714286]\n",
            "['Honda City', 0.2857142857142857, 0.7142857142857143, 0.5, 0.75, 0.2065217391304348, 0.5]\n",
            "['Toyota Corolla Altis', 0.2857142857142857, 0.8571428571428571, 0.5, 1.0, 0.5652173913043479, 0.5]\n",
            "['Suzuki Ertiga', 0.5714285714285714, 0.5714285714285714, 0.5, 0.5, 0.16304347826086954, 0.5]\n",
            "['Toyota Fortuner', 0.8571428571428571, 0.7142857142857143, 0.16666666666666666, 0.75, 0.4565217391304348, 0.5714285714285714]\n",
            "['Toyota Foxy', 0.8571428571428571, 0.8571428571428571, 0.16666666666666666, 0.5, 0.5108695652173914, 0.5714285714285714]\n",
            "['Toyota Hiace', 1.0, 0.2857142857142857, 0.6666666666666666, 0.25, 0.4565217391304348, 0.7142857142857143]\n",
            "['Alphard', 0.8571428571428571, 1.0, 0.0, 0.75, 1.0, 0.7608695652173912]\n",
            "['Daihatsu Alya', 0.14285714285714285, 0.0, 0.8333333333333334, 0.25, 0.03260869565217392, 0.8333333333333334]\n",
            "['Toyota Vios', 0.2857142857142857, 0.5714285714285714, 0.8333333333333334, 0.75, 0.1847826086956522, 0.8333333333333334]\n",
            "['Toyota Agya', 0.14285714285714285, 0.14285714285714285, 0.8333333333333334, 0.25, 0.021739130434782605, 0.8333333333333334]\n",
            "['Suzuki Carry', 0.5714285714285714, 0.0, 0.8333333333333334, 0.0, 0.0, 0.8333333333333334]\n",
            "['Karimun', 0.0, 0.14285714285714285, 1.0, 0.0, 0.04347826086956521, 1.0]\n"
          ],
          "name": "stdout"
        }
      ]
    }
  ]
}