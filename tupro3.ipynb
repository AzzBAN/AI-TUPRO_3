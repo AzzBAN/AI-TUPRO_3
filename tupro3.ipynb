{
  "cells": [
    {
      "cell_type": "code",
      "execution_count": 46,
      "metadata": {
        "colab": {
          "base_uri": "https://localhost:8080/"
        },
        "id": "1tWd9ApVymL1",
        "outputId": "cf02ccb7-4ba1-44f0-a3d7-555536fa6ff8"
      },
      "outputs": [
        {
          "name": "stdout",
          "output_type": "stream",
          "text": [
            "Requirement already satisfied: XlsxWriter in c:\\users\\ajar\\appdata\\local\\programs\\python\\python39\\lib\\site-packages (3.0.1)"
          ]
        },
        {
          "name": "stderr",
          "output_type": "stream",
          "text": [
            "WARNING: You are using pip version 21.2.3; however, version 21.2.4 is available.\n",
            "You should consider upgrading via the 'C:\\Users\\Ajar\\AppData\\Local\\Programs\\Python\\Python39\\python.exe -m pip install --upgrade pip' command.\n"
          ]
        },
        {
          "name": "stdout",
          "output_type": "stream",
          "text": [
            "\n"
          ]
        }
      ],
      "source": [
        "!pip install XlsxWriter"
      ]
    },
    {
      "cell_type": "code",
      "execution_count": 47,
      "metadata": {
        "id": "h0ouhXybyc1R"
      },
      "outputs": [],
      "source": [
        "import pandas as pd\n",
        "import math\n",
        "import copy\n",
        "import xlsxwriter"
      ]
    },
    {
      "cell_type": "code",
      "execution_count": 48,
      "metadata": {
        "id": "e1XqaD7Zyc1T"
      },
      "outputs": [],
      "source": [
        "def importData(excel):\n",
        "    arrData = []\n",
        "    data = pd.read_excel (excel)\n",
        "    for i in range(len(data['Nama Mobil'])):    \n",
        "        arrData.append([])   \n",
        "        arrData[i].append(data['Nama Mobil'][i])\n",
        "        arrData[i].append(data['Ukuran'][i])\n",
        "        arrData[i].append(data['Kenyamanan'][i])\n",
        "        arrData[i].append(data['Irit'][i])\n",
        "        arrData[i].append(data['Kecepatan'][i])\n",
        "        arrData[i].append(data['Harga (Ratus Juta)'][i])\n",
        "    return arrData"
      ]
    },
    {
      "cell_type": "code",
      "execution_count": 49,
      "metadata": {
        "id": "FnHtz5ijyc1U"
      },
      "outputs": [],
      "source": [
        "def euclidean(arrMobil, testing):\n",
        "    i = 1\n",
        "    x = 0\n",
        "    while (i < len(arrMobil)):\n",
        "        x = x + ((arrMobil[i] - testing[0][i]) * (arrMobil[i] - testing[0][i]))\n",
        "        i = i + 1\n",
        "    return math.sqrt(x)"
      ]
    },
    {
      "cell_type": "code",
      "execution_count": 50,
      "metadata": {
        "id": "yopHInbhyc1V"
      },
      "outputs": [],
      "source": [
        "def manhattan(arrMobil, testing):\n",
        "    i = 1\n",
        "    x = 0\n",
        "    while (i < len(arrMobil)):\n",
        "        x = x + abs(arrMobil[i] - testing[0][i])\n",
        "        i = i + 1\n",
        "    return x"
      ]
    },
    {
      "cell_type": "code",
      "execution_count": 51,
      "metadata": {
        "id": "ONpaTtltyc1V"
      },
      "outputs": [],
      "source": [
        "def minkowski(arrMobil, testing):\n",
        "    i = 1\n",
        "    x = 0\n",
        "    while (i < len(arrMobil)):\n",
        "        x = x + math.pow((abs(arrMobil[i] - testing[0][i])), 1.7)\n",
        "        i = i + 1\n",
        "    return math.pow(x, 1/1.7)"
      ]
    },
    {
      "cell_type": "code",
      "execution_count": 52,
      "metadata": {
        "id": "WJM5USdnyc1V"
      },
      "outputs": [],
      "source": [
        "def supremum(arrMobil, testing):\n",
        "    i = 1\n",
        "    maxx = 0\n",
        "    while (i < len(arrMobil)):\n",
        "        x = abs(arrMobil[i] - testing[0][i])\n",
        "        if (x > maxx) :\n",
        "            maxx = x\n",
        "        i = i + 1\n",
        "    return maxx"
      ]
    },
    {
      "cell_type": "code",
      "execution_count": 53,
      "metadata": {
        "id": "UVTIgrQ4yc1W"
      },
      "outputs": [],
      "source": [
        "def urutkanBesar(Data,by,mobil):\n",
        "    data = Data[:]\n",
        "    Mobil = copy.deepcopy(mobil)\n",
        "    for i in range(len(data)):\n",
        "        min_idx = i\n",
        "        for j in range(i+1, len(data)):\n",
        "            if data[min_idx][by] > data[j][by]:\n",
        "                min_idx = j \n",
        "        data[i], data[min_idx] = data[min_idx], data[i]\n",
        "        Mobil[i], Mobil[min_idx] = Mobil[min_idx], Mobil[i]\n",
        "        Mobil[i].append(data[i][by]) # Tambah Hasil Perhitungan\n",
        "    return Mobil"
      ]
    },
    {
      "cell_type": "code",
      "execution_count": 54,
      "metadata": {
        "id": "h6iscognyc1W"
      },
      "outputs": [],
      "source": [
        "def ngitung(dataMobil, dataTesting):\n",
        "    perhitungan = []\n",
        "    for i in range(len(dataMobil)):\n",
        "        perhitungan.append([])\n",
        "        perhitungan[i].append(dataMobil[i][0])\n",
        "        perhitungan[i].append(euclidean(dataMobil[i], dataTesting))\n",
        "        perhitungan[i].append(manhattan(dataMobil[i], dataTesting))\n",
        "        perhitungan[i].append(minkowski(dataMobil[i], dataTesting))\n",
        "        perhitungan[i].append(supremum(dataMobil[i], dataTesting))\n",
        "    return perhitungan"
      ]
    },
    {
      "cell_type": "code",
      "execution_count": 55,
      "metadata": {
        "id": "bYOO3Ci2yc1X"
      },
      "outputs": [],
      "source": [
        "def min(data, idx):\n",
        "    x = data[0][idx]\n",
        "    for i in range(len(data)): #counter mobil\n",
        "        if (data[i][idx] < x):\n",
        "            x = data[i][idx]\n",
        "    return x"
      ]
    },
    {
      "cell_type": "code",
      "execution_count": 56,
      "metadata": {
        "id": "BPcsHEyVyc1X"
      },
      "outputs": [],
      "source": [
        "def max(data, idx):\n",
        "    x = data[0][idx]\n",
        "    for i in range(len(data)): #counter mobil\n",
        "        if (data[i][idx] > x):\n",
        "            x = data[i][idx]\n",
        "    return x"
      ]
    },
    {
      "cell_type": "code",
      "execution_count": 57,
      "metadata": {
        "id": "CtyzCBjgyc1X"
      },
      "outputs": [],
      "source": [
        "def normalisasi(data, datam):\n",
        "    Data = copy.deepcopy(data)\n",
        "    j = 1\n",
        "    while (j < len(Data[0])): #counter kategori\n",
        "        for i in range(len(Data)): #counter mobil\n",
        "            Data[i][j] = (Data[i][j] - min(datam,j))/(max(datam,j) - min(datam,j))\n",
        "        j += 1\n",
        "    return Data\n"
      ]
    },
    {
      "cell_type": "code",
      "execution_count": 58,
      "metadata": {
        "id": "bCvhtN7z1CE8"
      },
      "outputs": [],
      "source": [
        "def rekomendasi(eclu, manha, minko, supre):\n",
        "    rekeclu = []\n",
        "    rekmanha = []\n",
        "    rekminko = []\n",
        "    reksupre = []\n",
        "    for i in range(3):\n",
        "        rekeclu.append(eclu[i])\n",
        "        rekmanha.append(manha[i])\n",
        "        rekminko.append(minko[i])\n",
        "        reksupre.append(supre[i])\n",
        "    return rekeclu, rekmanha, rekminko, reksupre"
      ]
    },
    {
      "cell_type": "code",
      "execution_count": 59,
      "metadata": {
        "id": "WBZLNBIQ0YLF"
      },
      "outputs": [],
      "source": [
        "def MembuatExcel(ListMobilRekomendasi,NamaExcel):\n",
        "  workbook = xlsxwriter.Workbook(NamaExcel)\n",
        "  worksheet = workbook.add_worksheet(\"The Data\")\n",
        "  worksheet.write(0,0,'Rekomendasi Mobil')\n",
        "  start = 1 \n",
        "  for i in range(len(ListMobilRekomendasi)):\n",
        "      worksheet.write(start,0,ListMobilRekomendasi[i][0])\n",
        "      start += 1\n",
        "\n",
        "  workbook.close()"
      ]
    },
    {
      "cell_type": "code",
      "execution_count": 60,
      "metadata": {
        "colab": {
          "base_uri": "https://localhost:8080/"
        },
        "id": "6cHnKJdKyc1Y",
        "outputId": "8f253930-6d5e-4b27-df4c-b36d16cd8b85"
      },
      "outputs": [
        {
          "name": "stdout",
          "output_type": "stream",
          "text": [
            "['Toyota Agya', 0.14285714285714285, 0.14285714285714285, 0.8333333333333334, 0.25, 0.021739130434782605]\n",
            "['Daihatsu Alya', 0.14285714285714285, 0.0, 0.8333333333333334, 0.25, 0.03260869565217392]\n",
            "['Toyota Avanza', 0.42857142857142855, 0.2857142857142857, 0.3333333333333333, 0.25, 0.13043478260869565]\n",
            "['Daihatsu Xenia', 0.42857142857142855, 0.14285714285714285, 0.3333333333333333, 0.25, 0.10326086956521739]\n",
            "['Xpander', 0.5714285714285714, 0.5714285714285714, 0.3333333333333333, 0.5, 0.15760869565217392]\n",
            "['Livina', 0.5714285714285714, 0.5714285714285714, 0.3333333333333333, 0.5, 0.14130434782608697]\n",
            "['Karimun', 0.0, 0.14285714285714285, 1.0, 0.0, 0.04347826086956521]\n",
            "['Toyota Innova', 0.7142857142857143, 0.7142857142857143, 0.16666666666666666, 0.5, 0.3478260869565218]\n",
            "['Alphard', 0.8571428571428571, 1.0, 0.0, 0.75, 1.0]\n",
            "['Toyota Vios', 0.2857142857142857, 0.5714285714285714, 0.8333333333333334, 0.75, 0.1847826086956522]\n",
            "['Honda City', 0.2857142857142857, 0.7142857142857143, 0.5, 0.75, 0.2065217391304348]\n",
            "['Toyota Hiace', 1.0, 0.2857142857142857, 0.6666666666666666, 0.25, 0.4565217391304348]\n",
            "['Toyota Fortuner', 0.8571428571428571, 0.7142857142857143, 0.16666666666666666, 0.75, 0.4565217391304348]\n",
            "['Toyota Foxy', 0.8571428571428571, 0.8571428571428571, 0.16666666666666666, 0.5, 0.5108695652173914]\n",
            "['Toyota Corolla Altis', 0.2857142857142857, 0.8571428571428571, 0.5, 1.0, 0.5652173913043479]\n",
            "['Suzuki Ertiga', 0.5714285714285714, 0.5714285714285714, 0.5, 0.5, 0.16304347826086954]\n",
            "['Suzuki Carry', 0.5714285714285714, 0.0, 0.8333333333333334, 0.0, 0.0]\n",
            "\n",
            "\n",
            "===========HASIL PERHITUNGAN=============\n",
            "['Toyota Agya', 1.6495442628212609, 3.631469979296066, 1.8928142177351714, 0.8695652173913043]\n",
            "['Daihatsu Alya', 1.7107602481617639, 3.7634575569358177, 1.9628099221981878, 0.858695652173913]\n",
            "['Toyota Avanza', 1.2042581484124848, 2.5942028985507246, 1.3728106712013088, 0.7608695652173912]\n",
            "['Daihatsu Xenia', 1.294604644577258, 2.7642339544513455, 1.472457893863428, 0.7880434782608695]\n",
            "['Xpander', 0.9355136168183035, 1.8884575569358177, 1.044989065845962, 0.733695652173913]\n",
            "['Livina', 0.9483545841264016, 1.9047619047619047, 1.0577620397476677, 0.75]\n",
            "['Karimun', 1.8778197551702562, 4.169254658385093, 2.159731500959712, 1.0]\n",
            "['Toyota Innova', 0.6530411352634665, 1.2458592132505175, 0.718535593481938, 0.5434782608695652]\n",
            "['Alphard', 0.1795074039331482, 0.251552795031056, 0.19031162093238346, 0.1428571428571429]\n",
            "['Toyota Vios', 1.265614742966619, 2.3969979296066253, 1.4096317469788908, 0.8333333333333334]\n",
            "['Honda City', 1.0324078635317664, 1.8990683229813663, 1.143445838563664, 0.6847826086956521]\n",
            "['Toyota Hiace', 1.1092425959991101, 2.315734989648033, 1.256978639584022, 0.6666666666666666]\n",
            "['Toyota Fortuner', 0.48705426583418854, 0.7443064182194615, 0.5179754246547803, 0.4347826086956521]\n",
            "['Toyota Foxy', 0.48477665124911207, 0.7971014492753622, 0.5261874353500549, 0.38043478260869557]\n",
            "['Toyota Corolla Altis', 0.863344262422881, 1.6475155279503104, 0.9627844714832283, 0.5714285714285714]\n",
            "['Suzuki Ertiga', 1.0030599185803089, 2.049689440993789, 1.126014969828638, 0.7282608695652174]\n",
            "['Suzuki Carry', 1.6934268261458407, 3.617494824016563, 1.9297350762907495, 0.8913043478260869]\n",
            "============ECLUDIAN=============\n",
            "['Alphard', 0.8571428571428571, 1.0, 0.0, 0.75, 1.0, 0.1795074039331482]\n",
            "['Toyota Foxy', 0.8571428571428571, 0.8571428571428571, 0.16666666666666666, 0.5, 0.5108695652173914, 0.48477665124911207]\n",
            "['Toyota Fortuner', 0.8571428571428571, 0.7142857142857143, 0.16666666666666666, 0.75, 0.4565217391304348, 0.48705426583418854]\n",
            "['Toyota Innova', 0.7142857142857143, 0.7142857142857143, 0.16666666666666666, 0.5, 0.3478260869565218, 0.6530411352634665]\n",
            "['Toyota Corolla Altis', 0.2857142857142857, 0.8571428571428571, 0.5, 1.0, 0.5652173913043479, 0.863344262422881]\n",
            "['Xpander', 0.5714285714285714, 0.5714285714285714, 0.3333333333333333, 0.5, 0.15760869565217392, 0.9355136168183035]\n",
            "['Livina', 0.5714285714285714, 0.5714285714285714, 0.3333333333333333, 0.5, 0.14130434782608697, 0.9483545841264016]\n",
            "['Suzuki Ertiga', 0.5714285714285714, 0.5714285714285714, 0.5, 0.5, 0.16304347826086954, 1.0030599185803089]\n",
            "['Honda City', 0.2857142857142857, 0.7142857142857143, 0.5, 0.75, 0.2065217391304348, 1.0324078635317664]\n",
            "['Toyota Hiace', 1.0, 0.2857142857142857, 0.6666666666666666, 0.25, 0.4565217391304348, 1.1092425959991101]\n",
            "['Toyota Avanza', 0.42857142857142855, 0.2857142857142857, 0.3333333333333333, 0.25, 0.13043478260869565, 1.2042581484124848]\n",
            "['Toyota Vios', 0.2857142857142857, 0.5714285714285714, 0.8333333333333334, 0.75, 0.1847826086956522, 1.265614742966619]\n",
            "['Daihatsu Xenia', 0.42857142857142855, 0.14285714285714285, 0.3333333333333333, 0.25, 0.10326086956521739, 1.294604644577258]\n",
            "['Toyota Agya', 0.14285714285714285, 0.14285714285714285, 0.8333333333333334, 0.25, 0.021739130434782605, 1.6495442628212609]\n",
            "['Suzuki Carry', 0.5714285714285714, 0.0, 0.8333333333333334, 0.0, 0.0, 1.6934268261458407]\n",
            "['Daihatsu Alya', 0.14285714285714285, 0.0, 0.8333333333333334, 0.25, 0.03260869565217392, 1.7107602481617639]\n",
            "['Karimun', 0.0, 0.14285714285714285, 1.0, 0.0, 0.04347826086956521, 1.8778197551702562]\n",
            "============MANHATTAN=============\n",
            "['Alphard', 0.8571428571428571, 1.0, 0.0, 0.75, 1.0, 0.251552795031056]\n",
            "['Toyota Fortuner', 0.8571428571428571, 0.7142857142857143, 0.16666666666666666, 0.75, 0.4565217391304348, 0.7443064182194615]\n",
            "['Toyota Foxy', 0.8571428571428571, 0.8571428571428571, 0.16666666666666666, 0.5, 0.5108695652173914, 0.7971014492753622]\n",
            "['Toyota Innova', 0.7142857142857143, 0.7142857142857143, 0.16666666666666666, 0.5, 0.3478260869565218, 1.2458592132505175]\n",
            "['Toyota Corolla Altis', 0.2857142857142857, 0.8571428571428571, 0.5, 1.0, 0.5652173913043479, 1.6475155279503104]\n",
            "['Xpander', 0.5714285714285714, 0.5714285714285714, 0.3333333333333333, 0.5, 0.15760869565217392, 1.8884575569358177]\n",
            "['Honda City', 0.2857142857142857, 0.7142857142857143, 0.5, 0.75, 0.2065217391304348, 1.8990683229813663]\n",
            "['Livina', 0.5714285714285714, 0.5714285714285714, 0.3333333333333333, 0.5, 0.14130434782608697, 1.9047619047619047]\n",
            "['Suzuki Ertiga', 0.5714285714285714, 0.5714285714285714, 0.5, 0.5, 0.16304347826086954, 2.049689440993789]\n",
            "['Toyota Hiace', 1.0, 0.2857142857142857, 0.6666666666666666, 0.25, 0.4565217391304348, 2.315734989648033]\n",
            "['Toyota Vios', 0.2857142857142857, 0.5714285714285714, 0.8333333333333334, 0.75, 0.1847826086956522, 2.3969979296066253]\n",
            "['Toyota Avanza', 0.42857142857142855, 0.2857142857142857, 0.3333333333333333, 0.25, 0.13043478260869565, 2.5942028985507246]\n",
            "['Daihatsu Xenia', 0.42857142857142855, 0.14285714285714285, 0.3333333333333333, 0.25, 0.10326086956521739, 2.7642339544513455]\n",
            "['Suzuki Carry', 0.5714285714285714, 0.0, 0.8333333333333334, 0.0, 0.0, 3.617494824016563]\n",
            "['Toyota Agya', 0.14285714285714285, 0.14285714285714285, 0.8333333333333334, 0.25, 0.021739130434782605, 3.631469979296066]\n",
            "['Daihatsu Alya', 0.14285714285714285, 0.0, 0.8333333333333334, 0.25, 0.03260869565217392, 3.7634575569358177]\n",
            "['Karimun', 0.0, 0.14285714285714285, 1.0, 0.0, 0.04347826086956521, 4.169254658385093]\n",
            "============MINKOWSKI=============\n",
            "['Alphard', 0.8571428571428571, 1.0, 0.0, 0.75, 1.0, 0.19031162093238346]\n",
            "['Toyota Fortuner', 0.8571428571428571, 0.7142857142857143, 0.16666666666666666, 0.75, 0.4565217391304348, 0.5179754246547803]\n",
            "['Toyota Foxy', 0.8571428571428571, 0.8571428571428571, 0.16666666666666666, 0.5, 0.5108695652173914, 0.5261874353500549]\n",
            "['Toyota Innova', 0.7142857142857143, 0.7142857142857143, 0.16666666666666666, 0.5, 0.3478260869565218, 0.718535593481938]\n",
            "['Toyota Corolla Altis', 0.2857142857142857, 0.8571428571428571, 0.5, 1.0, 0.5652173913043479, 0.9627844714832283]\n",
            "['Xpander', 0.5714285714285714, 0.5714285714285714, 0.3333333333333333, 0.5, 0.15760869565217392, 1.044989065845962]\n",
            "['Livina', 0.5714285714285714, 0.5714285714285714, 0.3333333333333333, 0.5, 0.14130434782608697, 1.0577620397476677]\n",
            "['Suzuki Ertiga', 0.5714285714285714, 0.5714285714285714, 0.5, 0.5, 0.16304347826086954, 1.126014969828638]\n",
            "['Honda City', 0.2857142857142857, 0.7142857142857143, 0.5, 0.75, 0.2065217391304348, 1.143445838563664]\n",
            "['Toyota Hiace', 1.0, 0.2857142857142857, 0.6666666666666666, 0.25, 0.4565217391304348, 1.256978639584022]\n",
            "['Toyota Avanza', 0.42857142857142855, 0.2857142857142857, 0.3333333333333333, 0.25, 0.13043478260869565, 1.3728106712013088]\n",
            "['Toyota Vios', 0.2857142857142857, 0.5714285714285714, 0.8333333333333334, 0.75, 0.1847826086956522, 1.4096317469788908]\n",
            "['Daihatsu Xenia', 0.42857142857142855, 0.14285714285714285, 0.3333333333333333, 0.25, 0.10326086956521739, 1.472457893863428]\n",
            "['Toyota Agya', 0.14285714285714285, 0.14285714285714285, 0.8333333333333334, 0.25, 0.021739130434782605, 1.8928142177351714]\n",
            "['Suzuki Carry', 0.5714285714285714, 0.0, 0.8333333333333334, 0.0, 0.0, 1.9297350762907495]\n",
            "['Daihatsu Alya', 0.14285714285714285, 0.0, 0.8333333333333334, 0.25, 0.03260869565217392, 1.9628099221981878]\n",
            "['Karimun', 0.0, 0.14285714285714285, 1.0, 0.0, 0.04347826086956521, 2.159731500959712]\n",
            "============SUPREMUM=============\n",
            "['Alphard', 0.8571428571428571, 1.0, 0.0, 0.75, 1.0, 0.1428571428571429]\n",
            "['Toyota Foxy', 0.8571428571428571, 0.8571428571428571, 0.16666666666666666, 0.5, 0.5108695652173914, 0.38043478260869557]\n",
            "['Toyota Fortuner', 0.8571428571428571, 0.7142857142857143, 0.16666666666666666, 0.75, 0.4565217391304348, 0.4347826086956521]\n",
            "['Toyota Innova', 0.7142857142857143, 0.7142857142857143, 0.16666666666666666, 0.5, 0.3478260869565218, 0.5434782608695652]\n",
            "['Toyota Corolla Altis', 0.2857142857142857, 0.8571428571428571, 0.5, 1.0, 0.5652173913043479, 0.5714285714285714]\n",
            "['Toyota Hiace', 1.0, 0.2857142857142857, 0.6666666666666666, 0.25, 0.4565217391304348, 0.6666666666666666]\n",
            "['Honda City', 0.2857142857142857, 0.7142857142857143, 0.5, 0.75, 0.2065217391304348, 0.6847826086956521]\n",
            "['Suzuki Ertiga', 0.5714285714285714, 0.5714285714285714, 0.5, 0.5, 0.16304347826086954, 0.7282608695652174]\n",
            "['Xpander', 0.5714285714285714, 0.5714285714285714, 0.3333333333333333, 0.5, 0.15760869565217392, 0.733695652173913]\n",
            "['Livina', 0.5714285714285714, 0.5714285714285714, 0.3333333333333333, 0.5, 0.14130434782608697, 0.75]\n",
            "['Toyota Avanza', 0.42857142857142855, 0.2857142857142857, 0.3333333333333333, 0.25, 0.13043478260869565, 0.7608695652173912]\n",
            "['Daihatsu Xenia', 0.42857142857142855, 0.14285714285714285, 0.3333333333333333, 0.25, 0.10326086956521739, 0.7880434782608695]\n",
            "['Toyota Vios', 0.2857142857142857, 0.5714285714285714, 0.8333333333333334, 0.75, 0.1847826086956522, 0.8333333333333334]\n",
            "['Daihatsu Alya', 0.14285714285714285, 0.0, 0.8333333333333334, 0.25, 0.03260869565217392, 0.858695652173913]\n",
            "['Toyota Agya', 0.14285714285714285, 0.14285714285714285, 0.8333333333333334, 0.25, 0.021739130434782605, 0.8695652173913043]\n",
            "['Suzuki Carry', 0.5714285714285714, 0.0, 0.8333333333333334, 0.0, 0.0, 0.8913043478260869]\n",
            "['Karimun', 0.0, 0.14285714285714285, 1.0, 0.0, 0.04347826086956521, 1.0]\n"
          ]
        }
      ],
      "source": [
        "testing = 'test.xls'\n",
        "training = 'Dataset Tugas 3.xls'\n",
        "dataTesting = importData(testing)\n",
        "dataMobil = importData(training)\n",
        "\n",
        "dataTesting = normalisasi(dataTesting, dataMobil)\n",
        "dataMobil = normalisasi(dataMobil, dataMobil)\n",
        "perhitungan = ngitung(dataMobil, dataTesting)\n",
        "i = 0\n",
        "print(*dataMobil, sep=\"\\n\")\n",
        "print(\"\\n\")\n",
        "print(\"===========HASIL PERHITUNGAN=============\")\n",
        "for i in range(len(perhitungan)):\n",
        "    print(perhitungan[i])\n",
        "\n",
        "\n",
        "eclusort = urutkanBesar(perhitungan,1,dataMobil)\n",
        "manhasort = urutkanBesar(perhitungan,2,dataMobil)\n",
        "minkosort = urutkanBesar(perhitungan,3,dataMobil)\n",
        "supresort = urutkanBesar(perhitungan,4,dataMobil)\n",
        "\n",
        "rekEclu, rekManha, rekMinko, rekSupre = rekomendasi(eclusort, manhasort, minkosort, supresort)\n",
        "print(\"============ECLUDIAN=============\")\n",
        "print(*eclusort , sep=\"\\n\")\n",
        "MembuatExcel(rekEclu,'Hasil Rekomendasi_Euclidean.xlsx')\n",
        "print(\"============MANHATTAN=============\")\n",
        "print(*manhasort , sep=\"\\n\")\n",
        "MembuatExcel(rekManha,'Hasil Rekomendasi_Manhattan.xlsx')\n",
        "print(\"============MINKOWSKI=============\")\n",
        "print(*minkosort , sep=\"\\n\")\n",
        "MembuatExcel(rekMinko,'Hasil Rekomendasi_Minkowski.xlsx')\n",
        "print(\"============SUPREMUM=============\")\n",
        "print(*supresort , sep=\"\\n\")\n",
        "MembuatExcel(rekSupre,'Hasil Rekomendasi_Supremum.xlsx')"
      ]
    }
  ],
  "metadata": {
    "colab": {
      "collapsed_sections": [],
      "name": "tupro3.ipynb",
      "provenance": []
    },
    "interpreter": {
      "hash": "14388ca568defe322aeab8729908ca889725a5c21760904d3bc2b9221a1bd3cf"
    },
    "kernelspec": {
      "display_name": "Python 3.9.7 64-bit",
      "name": "python3"
    },
    "language_info": {
      "codemirror_mode": {
        "name": "ipython",
        "version": 3
      },
      "file_extension": ".py",
      "mimetype": "text/x-python",
      "name": "python",
      "nbconvert_exporter": "python",
      "pygments_lexer": "ipython3",
      "version": "3.9.7"
    },
    "orig_nbformat": 4
  },
  "nbformat": 4,
  "nbformat_minor": 0
}
